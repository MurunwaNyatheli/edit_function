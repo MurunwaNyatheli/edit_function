{
 "cells": [
  {
   "cell_type": "code",
   "execution_count": null,
   "metadata": {},
   "outputs": [],
   "source": [
    "%%sql\n",
    "def edit():\n",
    "  isbn = input(\"Enter ISBN Number You Want To Edit: \")\n",
    "      field = input(\"Enter Field Name You Want To Edit: \")\n",
    "      change = input(f\"Do you want to change {field}? \")\n",
    "      if change.lower() == \"y\":\n",
    "          changer = input(\"Insert the new value: \")\n",
    "          query = f\"UPDATE books SET {field} = '{changer}' WHERE isbn_number = '{isbn}'\"\n",
    "          %sql $query\n",
    "          %sql COMMIT\n",
    "      else:\n",
    "        print(\"No change made.\")"
   ]
  }
 ],
 "metadata": {
  "kernelspec": {
   "display_name": "base",
   "language": "python",
   "name": "python3"
  },
  "language_info": {
   "name": "python",
   "version": "3.10.9"
  },
  "orig_nbformat": 4
 },
 "nbformat": 4,
 "nbformat_minor": 2
}
